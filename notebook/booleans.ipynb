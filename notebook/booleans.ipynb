2 < 5
True
4 > 10
False
4 <= 3
False
3 >= 3
True
5 == 6
False
6 != 9
True

#

bool(0)
False
bool(1)
True

bool("")
False
bool("a")
True

bool([])
False
bool([1, 2, 3])
True

#

0
 int(True)
1
